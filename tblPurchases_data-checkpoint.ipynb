{
 "cells": [
  {
   "cell_type": "code",
   "execution_count": 4,
   "metadata": {},
   "outputs": [],
   "source": [
    "# Creating the data for the Purchases table.\n",
    "import random\n",
    "\n",
    "# We want 30,000 purchases randomly distributed among our 10,001 customers.\n",
    "cust_numbers = []\n",
    "for purchase in range(0,30000):\n",
    "    cust_number = random.randint(0,10001)\n",
    "    cust_numbers.append(cust_number)"
   ]
  },
  {
   "cell_type": "code",
   "execution_count": 6,
   "metadata": {},
   "outputs": [],
   "source": [
    "# Creating amounts for all the purchases.\n",
    "purchase_amounts = []\n",
    "amount_choices = [25, 50, 75, 100, 150, 200, 250, 300, 350, 400, 450, 500]\n",
    "for purhcase in range(0,30000):\n",
    "    purchase_amount = random.choice(amount_choices)\n",
    "    purchase_amounts.append(purchase_amount)"
   ]
  },
  {
   "cell_type": "code",
   "execution_count": 8,
   "metadata": {},
   "outputs": [],
   "source": [
    "# Creating random dates for all purchases.\n",
    "import datetime\n",
    "\n",
    "def get_date(start_date, end_date):\n",
    "    start_date = datetime.date(2015, 1, 1)\n",
    "    end_date = datetime.date(2021, 1, 1)\n",
    "\n",
    "    time_between_dates = end_date - start_date\n",
    "    days_between_dates = time_between_dates.days\n",
    "    random_number_of_days = random.randrange(days_between_dates)\n",
    "    random_date = str(start_date + datetime.timedelta(days=random_number_of_days))\n",
    "    \n",
    "    return random_date\n",
    "\n",
    "purchase_dates = []\n",
    "start_date = datetime.date(2015, 1, 1)\n",
    "end_date = datetime.date(2021, 1, 1)\n",
    "for date in range(0,30000):\n",
    "    purchase_date = get_date(start_date, end_date)\n",
    "    purchase_dates.append(purchase_date)"
   ]
  },
  {
   "cell_type": "code",
   "execution_count": null,
   "metadata": {},
   "outputs": [],
   "source": [
    "# We want to match the title of the piece purchased to the purchase amount.\n",
    "500_pieces = ['Child', 'Concertina', 'Cupboard', 'Heavy Games', 'Jagged Veil', 'Landscape', 'Overture', 'Pumpkinhead', 'Random Cities',\n",
    "              'Sea Shanty', 'Sorrow', 'Tempest', 'Underground', 'Understanding']\n",
    "450_pieces = ['Ashes', 'Bright', 'Burlesque', 'Countertop', 'Cute Kitty', 'Drug Addict', 'Husband', 'Intrepid Explorer', 'Kitchen',\n",
    "              'Sunset', 'Vertigo', 'Yearning']\n",
    "400_pieces = ['Atomic', 'Birthday', 'Diversions', 'Initiative', 'Man', 'Melting', 'Midnight Sky', 'People Pleaser', 'Summer Breeze']\n",
    "350_pieces = []"
   ]
  },
  {
   "cell_type": "code",
   "execution_count": null,
   "metadata": {},
   "outputs": [],
   "source": [
    "# Create a list of art pieces that includes their price, style, and artist name.\n",
    "\n",
    "artworks = [\n",
    "    {\n",
    "    'TitleOfPiece': 'Child',\n",
    "    'Price': 500,\n",
    "    'Style': 'Cubist',\n",
    "    'ArtistFistName': 'Anna',\n",
    "    'ArtistLastName': 'Lyons'\n",
    "    },\n",
    "    {\n",
    "    'TitleOfPiece': 'Concertina',\n",
    "    'Price': 500,\n",
    "    'Style': 'Abstract Expressionism',\n",
    "    'ArtistFistName': 'Terry',\n",
    "    'ArtistLastName': 'Ware'\n",
    "    }\n",
    "            \n",
    "           ]"
   ]
  }
 ],
 "metadata": {
  "kernelspec": {
   "display_name": "Python 3",
   "language": "python",
   "name": "python3"
  },
  "language_info": {
   "codemirror_mode": {
    "name": "ipython",
    "version": 3
   },
   "file_extension": ".py",
   "mimetype": "text/x-python",
   "name": "python",
   "nbconvert_exporter": "python",
   "pygments_lexer": "ipython3",
   "version": "3.8.6"
  }
 },
 "nbformat": 4,
 "nbformat_minor": 4
}
