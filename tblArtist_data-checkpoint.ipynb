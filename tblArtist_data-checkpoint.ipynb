{
 "cells": [
  {
   "cell_type": "code",
   "execution_count": 1,
   "metadata": {},
   "outputs": [],
   "source": [
    "# Generate a list of random names to assign to the artists for tblArtist\n",
    "import names\n",
    "\n",
    "artist_fnames = []\n",
    "for fname in range(0,100):\n",
    "    fname = names.get_first_name()\n",
    "    artist_fnames.append(fname)\n",
    "    \n",
    "artist_lnames = []\n",
    "for lname in range(0,100):\n",
    "    lname = names.get_last_name()\n",
    "    artist_lnames.append(lname)"
   ]
  },
  {
   "cell_type": "code",
   "execution_count": 2,
   "metadata": {},
   "outputs": [],
   "source": [
    "# Create a list of cities to randomly assign to each artist in tblArtist.\n",
    "import random\n",
    "\n",
    "birthplace_city = ['Phoenix', 'Denver', 'Los Angeles', 'Paris', 'New York', 'Bruges', 'Rome', 'Napoli', 'St. Petersburg', 'London',\n",
    "                  'Moscow', 'Prague', 'Chicago', 'Miami', 'Seattle', 'Portland', 'San Francisco', 'Lagos', 'Cape Town', 'Tokyo',\n",
    "                   'Auckland', 'Salem', 'Tucson', 'Santa Fe', 'Taos', 'Sydney', 'Perth', 'Adelaide', 'Oslo', 'Buenos Aires',\n",
    "                   'Mexico City', 'Guadalajara', 'Madrid', 'Sevilla', 'Barcelona', 'Warsaw', 'Copenhagen', 'Algiers', 'Cairo',\n",
    "                   'Ankara', 'Amsterdam', 'Athens', 'Bangkok', 'Beijing', 'Beirut', 'Belgrade', 'Bogota', 'Brasilia', 'Melbourne',\n",
    "                   'Caracas', 'Damascus', 'Dublin', 'Belfast', 'Hanoi', 'Helsinki', 'Islamabad', 'Havana', 'Jakarta', 'Jerusalem',\n",
    "                   'Kuala Lumpur', 'Kigali', 'La Paz', 'Lima', 'Manila', 'Minsk', 'Montevideo', 'New Delhi', 'Ottawa', 'Vancouver',\n",
    "                   'Panama City', 'Pyongyang', 'Seoul', 'Quito', 'San Juan', 'Santiago', 'Santo Domingo', 'Singapore', 'Stockholm',\n",
    "                   'Taipei', 'Tehran', 'Tripoli', 'Tunis', 'Vienna', 'Wellington', 'Canberra', 'Zagreb', 'Christchurch', 'San Diego',\n",
    "                   'Raleigh', 'Boston', 'Newark', 'Halifax', 'Edinburgh', 'Exeter', 'Venice', 'Florence', 'Milan', 'Genoa', 'Marseille',\n",
    "                   'Nice', 'Toulouse', 'Berlin', 'Munich', 'Dresden', 'Hamburg', 'Salzburg', 'Antwerp', 'Valencia'\n",
    "                  ]\n",
    "\n",
    "artist_birthplaces = []\n",
    "for city in range(0,100):\n",
    "    birthplace = random.choice(birthplace_city)\n",
    "    artist_birthplaces.append(birthplace)"
   ]
  },
  {
   "cell_type": "code",
   "execution_count": 3,
   "metadata": {},
   "outputs": [],
   "source": [
    "# Use the same list of artistic styles from tblCustomer and radomly distibute to all artists.\n",
    "\n",
    "art_styles = ['Post-Modern', 'Impressionist', 'Cubist', 'Art Deco', 'Pop Art', 'Surrealism',\n",
    "              'Abstract Expressionism', 'Baroque', 'Modern', 'Sculpture']\n",
    "\n",
    "artist_styles = []\n",
    "for style in range(0,100):\n",
    "    artist_style = random.choice(art_styles)\n",
    "    artist_styles.append(artist_style)"
   ]
  },
  {
   "cell_type": "code",
   "execution_count": 6,
   "metadata": {},
   "outputs": [
    {
     "data": {
      "text/html": [
       "<div>\n",
       "<style scoped>\n",
       "    .dataframe tbody tr th:only-of-type {\n",
       "        vertical-align: middle;\n",
       "    }\n",
       "\n",
       "    .dataframe tbody tr th {\n",
       "        vertical-align: top;\n",
       "    }\n",
       "\n",
       "    .dataframe thead th {\n",
       "        text-align: right;\n",
       "    }\n",
       "</style>\n",
       "<table border=\"1\" class=\"dataframe\">\n",
       "  <thead>\n",
       "    <tr style=\"text-align: right;\">\n",
       "      <th></th>\n",
       "      <th>ArtistFirstName</th>\n",
       "      <th>ArtistLastName</th>\n",
       "      <th>ArtistBirthplace</th>\n",
       "      <th>Style</th>\n",
       "    </tr>\n",
       "  </thead>\n",
       "  <tbody>\n",
       "    <tr>\n",
       "      <th>0</th>\n",
       "      <td>Thomas</td>\n",
       "      <td>Washington</td>\n",
       "      <td>Kigali</td>\n",
       "      <td>Impressionist</td>\n",
       "    </tr>\n",
       "    <tr>\n",
       "      <th>1</th>\n",
       "      <td>Vera</td>\n",
       "      <td>Cooley</td>\n",
       "      <td>Valencia</td>\n",
       "      <td>Modern</td>\n",
       "    </tr>\n",
       "    <tr>\n",
       "      <th>2</th>\n",
       "      <td>Hilda</td>\n",
       "      <td>Velez</td>\n",
       "      <td>Nice</td>\n",
       "      <td>Baroque</td>\n",
       "    </tr>\n",
       "    <tr>\n",
       "      <th>3</th>\n",
       "      <td>Michael</td>\n",
       "      <td>Florez</td>\n",
       "      <td>Amsterdam</td>\n",
       "      <td>Abstract Expressionism</td>\n",
       "    </tr>\n",
       "    <tr>\n",
       "      <th>4</th>\n",
       "      <td>Maria</td>\n",
       "      <td>Kleypas</td>\n",
       "      <td>Christchurch</td>\n",
       "      <td>Abstract Expressionism</td>\n",
       "    </tr>\n",
       "  </tbody>\n",
       "</table>\n",
       "</div>"
      ],
      "text/plain": [
       "  ArtistFirstName ArtistLastName ArtistBirthplace                   Style\n",
       "0          Thomas     Washington           Kigali           Impressionist\n",
       "1            Vera         Cooley         Valencia                  Modern\n",
       "2           Hilda          Velez             Nice                 Baroque\n",
       "3         Michael         Florez        Amsterdam  Abstract Expressionism\n",
       "4           Maria        Kleypas     Christchurch  Abstract Expressionism"
      ]
     },
     "execution_count": 6,
     "metadata": {},
     "output_type": "execute_result"
    }
   ],
   "source": [
    "# Converting random data into a Pandas dataframe in order to transfer directly to database in local SQL Server.\n",
    "import pandas as pd\n",
    "\n",
    "# Create the dataframe columns.\n",
    "artist_df = pd.DataFrame(columns=[\n",
    "    'ArtistFirstName',\n",
    "    'ArtistLastName',\n",
    "    'ArtistBirthplace',\n",
    "    'Style']\n",
    "    )\n",
    "\n",
    "# Insert the lists into the appropriate columns.\n",
    "artist_df['ArtistFirstName'] = pd.Series(artist_fnames)\n",
    "artist_df['ArtistLastName'] = pd.Series(artist_lnames)\n",
    "artist_df['ArtistBirthplace'] = pd.Series(artist_birthplaces)\n",
    "artist_df['Style'] = pd.Series(artist_styles)\n",
    "\n",
    "artist_df.head()"
   ]
  },
  {
   "cell_type": "code",
   "execution_count": 7,
   "metadata": {},
   "outputs": [],
   "source": [
    "import pyodbc\n",
    "\n",
    "# Establish connection to SQL Server\n",
    "conn = pyodbc.connect('Driver={SQL Server};'\n",
    "                     'Server=DESKTOP-VF62RP9;'\n",
    "                      'Database=ArtStore;'\n",
    "                      'Trusted_Connection=yes;'\n",
    "                     )"
   ]
  },
  {
   "cell_type": "code",
   "execution_count": 8,
   "metadata": {},
   "outputs": [],
   "source": [
    "# Create a cursor and insert dataframe into existing table in SQL Server.\n",
    "cursor = conn.cursor()\n",
    "\n",
    "for row in artist_df.itertuples():\n",
    "    cursor.execute('''\n",
    "        INSERT INTO ArtStore.dbo.tblArtist (ArtistFirstName, ArtistLastName, ArtistBirthplace, Style)\n",
    "        VALUES (?,?,?,?)\n",
    "    ''',\n",
    "    row.ArtistFirstName,\n",
    "    row.ArtistLastName,\n",
    "    row.ArtistBirthplace,\n",
    "    row.Style)\n",
    "    \n",
    "conn.commit()"
   ]
  },
  {
   "cell_type": "code",
   "execution_count": 11,
   "metadata": {},
   "outputs": [
    {
     "data": {
      "text/plain": [
       "100"
      ]
     },
     "execution_count": 11,
     "metadata": {},
     "output_type": "execute_result"
    }
   ],
   "source": [
    "# Making up one-word or two-word titles for each piece in the Artwork table.\n",
    "\n",
    "artwork_titles = ['Sunrise', 'Sunset', 'Man', 'Woman', 'Child', 'Theater', 'Obelisk', 'Solar System', 'Stars', 'Thinking', 'Depression',\n",
    "    'Solidarity', 'Hubris', 'Melting', 'Breakfast', 'The Eclipse', 'Birthday', 'Agora', 'Smokescreen', 'Plebian', 'Landscape', 'Constellation', \n",
    "    'Yearning', 'Pregnant', 'Reality', 'Settlers', 'Heavy Games', 'Tempest', 'Island', 'Vertigo', 'Atomic', 'Gunfire', 'Violence', 'Citadel',\n",
    "    'Miniature', 'The Minotaur', 'Midnight Sky', 'Summer Breeze', 'Thoughtful River', 'Bright', 'The Golem', 'Ashes', 'Underground', 'Blue',\n",
    "    'Giant Planet', 'Intrepid Explorer', 'Rover', 'Random Cities', 'Deep Currents', 'Undertow', 'Distant Horizon', 'The Preacher', 'Jettison',\n",
    "    'Ellipsoid', 'Fertile Fields', 'People Pleaser', 'Apples', 'Jagged Veil', 'Understanding', 'Piccolo', 'Pumpkinhead', 'Diversions',\n",
    "    'Confusion', '2112', 'Strange Fiction', 'A Film', 'Quest', 'Happy Gathering', 'Social Scene', 'Kitchen', 'Countertop', 'Cupboard',\n",
    "    'Utensil Holder', 'Pitcher', 'Pretty Birds', 'Sorrow', 'Ecstasy', 'Drug Addict', 'Cute Kitty', 'Full Mood', 'Burlesque', 'Jump',\n",
    "    'Grandstand', 'Marching Band', 'New Day', 'Wife', 'Husband', 'Marital Bliss', 'Funny Business', 'Concertina', 'Sea Shanty', 'Lemons',\n",
    "    'Youth', 'Initiative', 'Yuletide', 'Overture', 'Western Mountains', 'Eastern Shores', 'Exposure', 'Quiet']"
   ]
  },
  {
   "cell_type": "code",
   "execution_count": 13,
   "metadata": {},
   "outputs": [
    {
     "data": {
      "text/plain": [
       "100"
      ]
     },
     "execution_count": 13,
     "metadata": {},
     "output_type": "execute_result"
    }
   ],
   "source": [
    "# Create a list of random years to assign to each piece of art.\n",
    "\n",
    "art_years = []\n",
    "for year in range(0,100):\n",
    "    year = random.randint(1700, 2020)\n",
    "    art_years.append(year)"
   ]
  },
  {
   "cell_type": "code",
   "execution_count": 15,
   "metadata": {},
   "outputs": [
    {
     "data": {
      "text/plain": [
       "100"
      ]
     },
     "execution_count": 15,
     "metadata": {},
     "output_type": "execute_result"
    }
   ],
   "source": [
    "# Create a list of prices to assign to each piece.\n",
    "\n",
    "prices = [25, 50, 75, 100, 150, 200, 250, 300, 350, 400, 450, 500]\n",
    "piece_prices = []\n",
    "for price in range(0,100):\n",
    "    price = random.choice(prices)\n",
    "    piece_prices.append(price)"
   ]
  },
  {
   "cell_type": "code",
   "execution_count": null,
   "metadata": {},
   "outputs": [],
   "source": []
  }
 ],
 "metadata": {
  "kernelspec": {
   "display_name": "Python 3",
   "language": "python",
   "name": "python3"
  },
  "language_info": {
   "codemirror_mode": {
    "name": "ipython",
    "version": 3
   },
   "file_extension": ".py",
   "mimetype": "text/x-python",
   "name": "python",
   "nbconvert_exporter": "python",
   "pygments_lexer": "ipython3",
   "version": "3.8.6"
  }
 },
 "nbformat": 4,
 "nbformat_minor": 4
}
