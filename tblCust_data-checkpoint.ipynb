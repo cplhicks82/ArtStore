{
 "cells": [
  {
   "cell_type": "code",
   "execution_count": 1,
   "metadata": {},
   "outputs": [],
   "source": [
    "# Generating random first/last names for all customers in database.\n",
    "import names\n",
    "\n",
    "first_names = []\n",
    "\n",
    "for first_name in range(0,10000):\n",
    "    first_name = names.get_first_name()\n",
    "    first_names.append(first_name)\n",
    "    \n",
    "last_names = []\n",
    "\n",
    "for last_name in range(0,10000):\n",
    "    last_name = names.get_last_name()\n",
    "    last_names.append(last_name)\n",
    "    \n"
   ]
  },
  {
   "cell_type": "code",
   "execution_count": 2,
   "metadata": {},
   "outputs": [],
   "source": [
    "# Generating random phone numbers for all customers in database.\n",
    "import random\n",
    "\n",
    "def get_phone():\n",
    "    n = '0000000000'\n",
    "    while '9' in n[3:6] or n[3:6] == '000' or n[6] == n[7] == n[8] == n[9]:\n",
    "        n = str(random.randint(10**9, 10**10-1))\n",
    "    return n[:3] + '-' + n[3:6] + '-' + n[6:]\n",
    "\n",
    "phone_numbers = []\n",
    "for phone_number in range(0,10000):\n",
    "    phone_number = get_phone()\n",
    "    phone_numbers.append(phone_number)\n",
    "    \n"
   ]
  },
  {
   "cell_type": "code",
   "execution_count": 3,
   "metadata": {},
   "outputs": [],
   "source": [
    "# Generating random email addresses for all customers in database.\n",
    "import random\n",
    "import string\n",
    "\n",
    "def random_char(y):\n",
    "    return ''.join(random.choice(string.ascii_lowercase) for x in range(y))\n",
    "\n",
    "res = [i[0] + j for i, j in zip(first_names, last_names)]\n",
    "\n",
    "final_emails = []\n",
    "for name in res:\n",
    "    name = name.lower() + '@email.com'\n",
    "    final_emails.append(name)\n",
    "    \n"
   ]
  },
  {
   "cell_type": "code",
   "execution_count": 4,
   "metadata": {},
   "outputs": [
    {
     "data": {
      "text/plain": [
       "['2017-06-22',\n",
       " '2018-09-28',\n",
       " '2018-02-19',\n",
       " '2020-12-30',\n",
       " '2017-03-16',\n",
       " '2015-12-10',\n",
       " '2017-10-07',\n",
       " '2016-11-07',\n",
       " '2020-04-18',\n",
       " '2017-06-03']"
      ]
     },
     "execution_count": 4,
     "metadata": {},
     "output_type": "execute_result"
    }
   ],
   "source": [
    "# Generate date of last purchase for each customer.\n",
    "# Decided to discard this column after port to SQL Server. This data can be extracted from the Purchases table.\n",
    "import datetime\n",
    "\n",
    "def get_date(start_date, end_date):\n",
    "    start_date = datetime.date(2015, 1, 1)\n",
    "    end_date = datetime.date(2021, 1, 1)\n",
    "\n",
    "    time_between_dates = end_date - start_date\n",
    "    days_between_dates = time_between_dates.days\n",
    "    random_number_of_days = random.randrange(days_between_dates)\n",
    "    random_date = str(start_date + datetime.timedelta(days=random_number_of_days))\n",
    "    \n",
    "    return random_date\n",
    "\n",
    "last_purchases = []\n",
    "start_date = datetime.date(2015, 1, 1)\n",
    "end_date = datetime.date(2021, 1, 1)\n",
    "for date in range(0,10000):\n",
    "    purchase_date = get_date(start_date, end_date)\n",
    "    last_purchases.append(purchase_date)\n",
    "    \n",
    "last_purchases[:10]"
   ]
  },
  {
   "cell_type": "code",
   "execution_count": 5,
   "metadata": {},
   "outputs": [
    {
     "data": {
      "text/plain": [
       "['2015-01-25',\n",
       " '2015-11-09',\n",
       " '2020-03-04',\n",
       " '2017-01-22',\n",
       " '2020-10-13',\n",
       " '2020-01-12',\n",
       " '2017-09-21',\n",
       " '2016-04-26',\n",
       " '2017-08-21',\n",
       " '2015-02-12']"
      ]
     },
     "execution_count": 5,
     "metadata": {},
     "output_type": "execute_result"
    }
   ],
   "source": [
    "# Generate random dates to indicate when customers signed up to the ArtStore.\n",
    "# If last purchase date is before signup date, we will drop the purchase date after\n",
    "# data transfer to SQL Server.\n",
    "# Decided to drop this coluumn in SQL Server as well.\n",
    "\n",
    "def get_date(start_date, end_date):\n",
    "    start_date = datetime.date(2015, 1, 1)\n",
    "    end_date = datetime.date(2021, 1, 1)\n",
    "\n",
    "    time_between_dates = end_date - start_date\n",
    "    days_between_dates = time_between_dates.days\n",
    "    random_number_of_days = random.randrange(days_between_dates)\n",
    "    random_date = str(start_date + datetime.timedelta(days=random_number_of_days))\n",
    "    \n",
    "    return random_date\n",
    "\n",
    "signup_dates = []\n",
    "start_date = datetime.date(2015, 1, 1)\n",
    "end_date = datetime.date(2021, 1, 1)\n",
    "for date in range(0,10000):\n",
    "    signup_date = get_date(start_date, end_date)\n",
    "    signup_dates.append(signup_date)\n",
    "    \n",
    "signup_dates[:10]"
   ]
  },
  {
   "cell_type": "code",
   "execution_count": 6,
   "metadata": {},
   "outputs": [
    {
     "data": {
      "text/plain": [
       "[7, 2, 6, 4, 3, 7, 9, 2, 1, 8]"
      ]
     },
     "execution_count": 6,
     "metadata": {},
     "output_type": "execute_result"
    }
   ],
   "source": [
    "# Generate a random number of total purchases for each customer.\n",
    "# If there is a purchase number for a customer without purchases we will change\n",
    "# the value to null or 0 after data transfer to SQL Server.\n",
    "# Decided to drop this column in SQL Server; this data can be gleaned from the Purchases table.\n",
    "\n",
    "def num_purchases():\n",
    "    num_purchases = random.randint(0,10)\n",
    "    \n",
    "    return num_purchases\n",
    "\n",
    "purchases = []\n",
    "for purchase in range(0,10000):\n",
    "    purchase = num_purchases()\n",
    "    purchases.append(purchase)\n",
    "    \n",
    "purchases[:10]"
   ]
  },
  {
   "cell_type": "code",
   "execution_count": 7,
   "metadata": {},
   "outputs": [
    {
     "data": {
      "text/plain": [
       "['Pop Art',\n",
       " 'Surrealism',\n",
       " 'Modern',\n",
       " 'Impressionist',\n",
       " 'Cubist',\n",
       " 'Baroque',\n",
       " 'Baroque',\n",
       " 'Impressionist',\n",
       " 'Baroque',\n",
       " 'Modern']"
      ]
     },
     "execution_count": 7,
     "metadata": {},
     "output_type": "execute_result"
    }
   ],
   "source": [
    "# Each customer will have a preferred art style/medium that they enjoy.\n",
    "# Dropped this column in SQL Server; this data can be gleaned from the Purchases table.\n",
    "\n",
    "art_styles = ['Post-Modern', 'Impressionist', 'Cubist', 'Art Deco', 'Pop Art', 'Surrealism',\n",
    "              'Abstract Expressionism', 'Baroque', 'Modern', 'Sculpture']\n",
    "\n",
    "preferred_style = []\n",
    "for style in range(0,10000):\n",
    "    style = random.choice(art_styles)\n",
    "    preferred_style.append(style)\n",
    "    \n",
    "preferred_style[:10]    "
   ]
  },
  {
   "cell_type": "code",
   "execution_count": 8,
   "metadata": {},
   "outputs": [
    {
     "data": {
      "text/html": [
       "<div>\n",
       "<style scoped>\n",
       "    .dataframe tbody tr th:only-of-type {\n",
       "        vertical-align: middle;\n",
       "    }\n",
       "\n",
       "    .dataframe tbody tr th {\n",
       "        vertical-align: top;\n",
       "    }\n",
       "\n",
       "    .dataframe thead th {\n",
       "        text-align: right;\n",
       "    }\n",
       "</style>\n",
       "<table border=\"1\" class=\"dataframe\">\n",
       "  <thead>\n",
       "    <tr style=\"text-align: right;\">\n",
       "      <th></th>\n",
       "      <th>CustFirstName</th>\n",
       "      <th>CustLastName</th>\n",
       "      <th>CustPhoneNumber</th>\n",
       "      <th>CustEmail</th>\n",
       "      <th>MemberDate</th>\n",
       "      <th>LastPurchaseDate</th>\n",
       "      <th>NumberPurchases</th>\n",
       "      <th>PreferredStyle</th>\n",
       "    </tr>\n",
       "  </thead>\n",
       "  <tbody>\n",
       "    <tr>\n",
       "      <th>0</th>\n",
       "      <td>Elvira</td>\n",
       "      <td>Baker</td>\n",
       "      <td>224-262-9607</td>\n",
       "      <td>ebaker@email.com</td>\n",
       "      <td>2015-01-25</td>\n",
       "      <td>2017-06-22</td>\n",
       "      <td>7</td>\n",
       "      <td>Pop Art</td>\n",
       "    </tr>\n",
       "    <tr>\n",
       "      <th>1</th>\n",
       "      <td>Mary</td>\n",
       "      <td>Deal</td>\n",
       "      <td>889-508-7955</td>\n",
       "      <td>mdeal@email.com</td>\n",
       "      <td>2015-11-09</td>\n",
       "      <td>2018-09-28</td>\n",
       "      <td>2</td>\n",
       "      <td>Surrealism</td>\n",
       "    </tr>\n",
       "    <tr>\n",
       "      <th>2</th>\n",
       "      <td>Robert</td>\n",
       "      <td>Nickel</td>\n",
       "      <td>113-570-4935</td>\n",
       "      <td>rnickel@email.com</td>\n",
       "      <td>2020-03-04</td>\n",
       "      <td>2018-02-19</td>\n",
       "      <td>6</td>\n",
       "      <td>Modern</td>\n",
       "    </tr>\n",
       "    <tr>\n",
       "      <th>3</th>\n",
       "      <td>Patrick</td>\n",
       "      <td>Beam</td>\n",
       "      <td>570-663-2392</td>\n",
       "      <td>pbeam@email.com</td>\n",
       "      <td>2017-01-22</td>\n",
       "      <td>2020-12-30</td>\n",
       "      <td>4</td>\n",
       "      <td>Impressionist</td>\n",
       "    </tr>\n",
       "    <tr>\n",
       "      <th>4</th>\n",
       "      <td>Sara</td>\n",
       "      <td>Long</td>\n",
       "      <td>544-365-1811</td>\n",
       "      <td>slong@email.com</td>\n",
       "      <td>2020-10-13</td>\n",
       "      <td>2017-03-16</td>\n",
       "      <td>3</td>\n",
       "      <td>Cubist</td>\n",
       "    </tr>\n",
       "  </tbody>\n",
       "</table>\n",
       "</div>"
      ],
      "text/plain": [
       "  CustFirstName CustLastName CustPhoneNumber          CustEmail  MemberDate  \\\n",
       "0        Elvira        Baker    224-262-9607   ebaker@email.com  2015-01-25   \n",
       "1          Mary         Deal    889-508-7955    mdeal@email.com  2015-11-09   \n",
       "2        Robert       Nickel    113-570-4935  rnickel@email.com  2020-03-04   \n",
       "3       Patrick         Beam    570-663-2392    pbeam@email.com  2017-01-22   \n",
       "4          Sara         Long    544-365-1811    slong@email.com  2020-10-13   \n",
       "\n",
       "  LastPurchaseDate  NumberPurchases PreferredStyle  \n",
       "0       2017-06-22                7        Pop Art  \n",
       "1       2018-09-28                2     Surrealism  \n",
       "2       2018-02-19                6         Modern  \n",
       "3       2020-12-30                4  Impressionist  \n",
       "4       2017-03-16                3         Cubist  "
      ]
     },
     "execution_count": 8,
     "metadata": {},
     "output_type": "execute_result"
    }
   ],
   "source": [
    "# Converting random data into a Pandas dataframe in order to transfer directly to database in local SQL Server.\n",
    "import pandas as pd\n",
    "\n",
    "# Create the dataframe columns.\n",
    "customer_df = pd.DataFrame(columns=[\n",
    "    'CustFirstName',\n",
    "    'CustLastName',\n",
    "    'CustPhoneNumber',\n",
    "    'CustEmail',\n",
    "    'MemberDate',\n",
    "    'LastPurchaseDate',\n",
    "    'NumberPurchases',\n",
    "    'PreferredStyle']\n",
    "    )\n",
    "\n",
    "# Insert the lists into the appropriate columns.\n",
    "customer_df['CustFirstName'] = pd.Series(first_names)\n",
    "customer_df['CustLastName'] = pd.Series(last_names)\n",
    "customer_df['CustPhoneNumber'] = pd.Series(phone_numbers)\n",
    "customer_df['CustEmail'] = pd.Series(final_emails)\n",
    "customer_df['MemberDate'] = pd.Series(signup_dates)\n",
    "customer_df['LastPurchaseDate'] = pd.Series(last_purchases)\n",
    "customer_df['NumberPurchases'] = pd.Series(purchases)\n",
    "customer_df['PreferredStyle'] = pd.Series(preferred_style)\n",
    "\n",
    "customer_df.head()"
   ]
  },
  {
   "cell_type": "code",
   "execution_count": 9,
   "metadata": {},
   "outputs": [],
   "source": [
    "import pyodbc\n",
    "\n",
    "# Establish connection to SQL Server\n",
    "conn = pyodbc.connect('Driver={SQL Server};'\n",
    "                     'Server=DESKTOP-VF62RP9;'\n",
    "                      'Database=ArtStore;'\n",
    "                      'Trusted_Connection=yes;'\n",
    "                     )"
   ]
  },
  {
   "cell_type": "code",
   "execution_count": 10,
   "metadata": {},
   "outputs": [],
   "source": [
    "# Create a cursor and insert dataframe into existing table in SQL Server.\n",
    "cursor = conn.cursor()\n",
    "\n",
    "for row in customer_df.itertuples():\n",
    "    cursor.execute('''\n",
    "        INSERT INTO ArtStore.dbo.tblCustomer (CustFirstName, CustLastName, CustPhoneNumber, CustEmail,\\\n",
    "        MemberDate, LastPurchaseDate, NumberPurchases, PreferredStyle)\n",
    "        VALUES (?,?,?,?,?,?,?,?)\n",
    "    ''',\n",
    "    row.CustFirstName,\n",
    "    row.CustLastName,\n",
    "    row.CustPhoneNumber,\n",
    "    row.CustEmail,\n",
    "    row.MemberDate,\n",
    "    row.LastPurchaseDate,\n",
    "    row.NumberPurchases,\n",
    "    row.PreferredStyle)\n",
    "    \n",
    "conn.commit()"
   ]
  },
  {
   "cell_type": "code",
   "execution_count": null,
   "metadata": {},
   "outputs": [],
   "source": []
  }
 ],
 "metadata": {
  "kernelspec": {
   "display_name": "Python 3",
   "language": "python",
   "name": "python3"
  },
  "language_info": {
   "codemirror_mode": {
    "name": "ipython",
    "version": 3
   },
   "file_extension": ".py",
   "mimetype": "text/x-python",
   "name": "python",
   "nbconvert_exporter": "python",
   "pygments_lexer": "ipython3",
   "version": "3.8.6"
  }
 },
 "nbformat": 4,
 "nbformat_minor": 4
}
